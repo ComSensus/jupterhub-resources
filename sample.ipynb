{
 "cells": [
  {
   "cell_type": "markdown",
   "source": [
    "A training pipeline is available at `/srv/pipeline.py`, placed there by [the provisioning code](https://github.com/ComSensus/jupyterhub). The `/srv` is a read-only directory, shared among the users. The pipeline's options are:\n",
    "\n",
    "- `x_train` (required): training input, as a local filename (containing NumPy array, Pandas DataFrame, etc. formats)\n",
    "- `y_train`: training output, as a local filename\n",
    "- `x_test`: test output, as a local filename\n",
    "- `y_test`: test output, as a local filename\n",
    "- `s3_dir` (required): S3 \"directory\" into which trained models and their metrics will be stored. The S3 bucket is provided by ComSensus.\n",
    "\n",
    "`requirements.txt` file represents the libraries used in the Model Suite and is used during the provisioning of the JupyterHub service.\n",
    "\n",
    "Below is a usage demonstration of the pipeline to classify MNIST data."
   ],
   "metadata": {}
  },
  {
   "cell_type": "code",
   "execution_count": null,
   "source": [
    "from sklearn.datasets import fetch_openml\n",
    "mnist = fetch_openml('mnist_784', version=1)\n",
    "X, y = mnist[\"data\"], mnist[\"target\"]\n",
    "X_train, X_test, y_train, y_test = X[:60000], X[60000:], y[:60000], y[60000:]"
   ],
   "outputs": [],
   "metadata": {}
  },
  {
   "cell_type": "code",
   "execution_count": null,
   "source": [
    "# Save data to local files, to be picked up by the pipeline\n",
    "import numpy as np\n",
    "with open('x_train', 'wb') as f:\n",
    "    np.save(f, X_train)  \n",
    "with open('y_train', 'wb') as f:\n",
    "    np.save(f, y_train)  \n",
    "with open('x_test', 'wb') as f:\n",
    "    np.save(f, X_test)  \n",
    "with open('y_test', 'wb') as f:\n",
    "    np.save(f, y_test)"
   ],
   "outputs": [],
   "metadata": {}
  },
  {
   "cell_type": "code",
   "execution_count": null,
   "source": [
    "%run /srv/pipeline.py \\\n",
    "    --task 'classification' \\\n",
    "    --algorithms 'sgd' 'kneighbors' \\\n",
    "    --x_train 'x_train' \\\n",
    "    --y_train 'y_train' \\\n",
    "    --x_test 'x_test' \\\n",
    "    --y_test 'y_test' \\\n",
    "    --s3_dir 'test_run'\n",
    "\n",
    "# Models and their metrics will be saved to S3.\n",
    "# For above example, at 's3://comsensus-jupyterhub/test_run/'"
   ],
   "outputs": [],
   "metadata": {}
  }
 ],
 "metadata": {
  "hide_input": false,
  "kernelspec": {
   "display_name": "Python 3",
   "language": "python",
   "name": "python3"
  },
  "language_info": {
   "codemirror_mode": {
    "name": "ipython",
    "version": 3
   },
   "file_extension": ".py",
   "mimetype": "text/x-python",
   "name": "python",
   "nbconvert_exporter": "python",
   "pygments_lexer": "ipython3",
   "version": "3.8.1"
  }
 },
 "nbformat": 4,
 "nbformat_minor": 4
}